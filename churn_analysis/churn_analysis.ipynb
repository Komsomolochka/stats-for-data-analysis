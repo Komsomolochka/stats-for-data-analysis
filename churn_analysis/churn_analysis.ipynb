{
  "nbformat": 4,
  "nbformat_minor": 0,
  "metadata": {
    "colab": {
      "name": "churn_analysis.ipynb",
      "provenance": [],
      "authorship_tag": "ABX9TyPVWYcEc+XKDSZMoTMZ8F/l",
      "include_colab_link": true
    },
    "kernelspec": {
      "name": "python3",
      "display_name": "Python 3"
    },
    "language_info": {
      "name": "python"
    }
  },
  "cells": [
    {
      "cell_type": "markdown",
      "metadata": {
        "id": "view-in-github",
        "colab_type": "text"
      },
      "source": [
        "<a href=\"https://colab.research.google.com/github/Komsomolochka/stats-for-data-analysis/blob/main/churn_analysis/churn_analysis.ipynb\" target=\"_parent\"><img src=\"https://colab.research.google.com/assets/colab-badge.svg\" alt=\"Open In Colab\"/></a>"
      ]
    },
    {
      "cell_type": "code",
      "execution_count": 191,
      "metadata": {
        "id": "E1r57L_rI2cn"
      },
      "outputs": [],
      "source": [
        "import pandas as pd\n",
        "import numpy as np\n",
        "from scipy import stats\n",
        "from itertools import combinations\n",
        "from statsmodels.stats.proportion import proportion_confint\n",
        "from statsmodels.sandbox.stats.multicomp import multipletests"
      ]
    },
    {
      "cell_type": "code",
      "source": [
        "data = pd.read_csv('/content/churn_analysis.csv')"
      ],
      "metadata": {
        "id": "SvVCBFNDJA0j"
      },
      "execution_count": 3,
      "outputs": []
    },
    {
      "cell_type": "code",
      "source": [
        "data.head()"
      ],
      "metadata": {
        "colab": {
          "base_uri": "https://localhost:8080/",
          "height": 287
        },
        "id": "CrdcCurRJG0e",
        "outputId": "a4fd1826-d812-437e-9a7e-8c517303a6e3"
      },
      "execution_count": 25,
      "outputs": [
        {
          "output_type": "execute_result",
          "data": {
            "text/html": [
              "\n",
              "  <div id=\"df-533730bc-4e31-44fc-ba3b-df6dd59d57c8\">\n",
              "    <div class=\"colab-df-container\">\n",
              "      <div>\n",
              "<style scoped>\n",
              "    .dataframe tbody tr th:only-of-type {\n",
              "        vertical-align: middle;\n",
              "    }\n",
              "\n",
              "    .dataframe tbody tr th {\n",
              "        vertical-align: top;\n",
              "    }\n",
              "\n",
              "    .dataframe thead th {\n",
              "        text-align: right;\n",
              "    }\n",
              "</style>\n",
              "<table border=\"1\" class=\"dataframe\">\n",
              "  <thead>\n",
              "    <tr style=\"text-align: right;\">\n",
              "      <th></th>\n",
              "      <th>Unnamed: 0</th>\n",
              "      <th>state</th>\n",
              "      <th>account_length</th>\n",
              "      <th>area_code</th>\n",
              "      <th>intl_plan</th>\n",
              "      <th>vmail_plan</th>\n",
              "      <th>vmail_message</th>\n",
              "      <th>day_mins</th>\n",
              "      <th>day_calls</th>\n",
              "      <th>day_charge</th>\n",
              "      <th>eve_mins</th>\n",
              "      <th>eve_calls</th>\n",
              "      <th>eve_charge</th>\n",
              "      <th>night_mins</th>\n",
              "      <th>night_calls</th>\n",
              "      <th>night_charge</th>\n",
              "      <th>intl_mins</th>\n",
              "      <th>intl_calls</th>\n",
              "      <th>intl_charge</th>\n",
              "      <th>custserv_calls</th>\n",
              "      <th>treatment</th>\n",
              "      <th>mes_estim</th>\n",
              "      <th>churn</th>\n",
              "    </tr>\n",
              "  </thead>\n",
              "  <tbody>\n",
              "    <tr>\n",
              "      <th>0</th>\n",
              "      <td>0</td>\n",
              "      <td>KS</td>\n",
              "      <td>128</td>\n",
              "      <td>415</td>\n",
              "      <td>no</td>\n",
              "      <td>yes</td>\n",
              "      <td>25</td>\n",
              "      <td>265.1</td>\n",
              "      <td>110</td>\n",
              "      <td>45.07</td>\n",
              "      <td>197.4</td>\n",
              "      <td>99</td>\n",
              "      <td>16.78</td>\n",
              "      <td>244.7</td>\n",
              "      <td>91</td>\n",
              "      <td>11.01</td>\n",
              "      <td>10.0</td>\n",
              "      <td>3</td>\n",
              "      <td>2.70</td>\n",
              "      <td>1</td>\n",
              "      <td>1</td>\n",
              "      <td>0.65</td>\n",
              "      <td>False.</td>\n",
              "    </tr>\n",
              "    <tr>\n",
              "      <th>1</th>\n",
              "      <td>1</td>\n",
              "      <td>OH</td>\n",
              "      <td>107</td>\n",
              "      <td>415</td>\n",
              "      <td>no</td>\n",
              "      <td>yes</td>\n",
              "      <td>26</td>\n",
              "      <td>161.6</td>\n",
              "      <td>123</td>\n",
              "      <td>27.47</td>\n",
              "      <td>195.5</td>\n",
              "      <td>103</td>\n",
              "      <td>16.62</td>\n",
              "      <td>254.4</td>\n",
              "      <td>103</td>\n",
              "      <td>11.45</td>\n",
              "      <td>13.7</td>\n",
              "      <td>3</td>\n",
              "      <td>3.70</td>\n",
              "      <td>1</td>\n",
              "      <td>0</td>\n",
              "      <td>0.55</td>\n",
              "      <td>False.</td>\n",
              "    </tr>\n",
              "    <tr>\n",
              "      <th>2</th>\n",
              "      <td>2</td>\n",
              "      <td>NJ</td>\n",
              "      <td>137</td>\n",
              "      <td>415</td>\n",
              "      <td>no</td>\n",
              "      <td>no</td>\n",
              "      <td>0</td>\n",
              "      <td>243.4</td>\n",
              "      <td>114</td>\n",
              "      <td>41.38</td>\n",
              "      <td>121.2</td>\n",
              "      <td>110</td>\n",
              "      <td>10.30</td>\n",
              "      <td>162.6</td>\n",
              "      <td>104</td>\n",
              "      <td>7.32</td>\n",
              "      <td>12.2</td>\n",
              "      <td>5</td>\n",
              "      <td>3.29</td>\n",
              "      <td>0</td>\n",
              "      <td>0</td>\n",
              "      <td>0.72</td>\n",
              "      <td>False.</td>\n",
              "    </tr>\n",
              "    <tr>\n",
              "      <th>3</th>\n",
              "      <td>3</td>\n",
              "      <td>OH</td>\n",
              "      <td>84</td>\n",
              "      <td>408</td>\n",
              "      <td>yes</td>\n",
              "      <td>no</td>\n",
              "      <td>0</td>\n",
              "      <td>299.4</td>\n",
              "      <td>71</td>\n",
              "      <td>50.90</td>\n",
              "      <td>61.9</td>\n",
              "      <td>88</td>\n",
              "      <td>5.26</td>\n",
              "      <td>196.9</td>\n",
              "      <td>89</td>\n",
              "      <td>8.86</td>\n",
              "      <td>6.6</td>\n",
              "      <td>7</td>\n",
              "      <td>1.78</td>\n",
              "      <td>2</td>\n",
              "      <td>1</td>\n",
              "      <td>0.28</td>\n",
              "      <td>False.</td>\n",
              "    </tr>\n",
              "    <tr>\n",
              "      <th>4</th>\n",
              "      <td>4</td>\n",
              "      <td>OK</td>\n",
              "      <td>75</td>\n",
              "      <td>415</td>\n",
              "      <td>yes</td>\n",
              "      <td>no</td>\n",
              "      <td>0</td>\n",
              "      <td>166.7</td>\n",
              "      <td>113</td>\n",
              "      <td>28.34</td>\n",
              "      <td>148.3</td>\n",
              "      <td>122</td>\n",
              "      <td>12.61</td>\n",
              "      <td>186.9</td>\n",
              "      <td>121</td>\n",
              "      <td>8.41</td>\n",
              "      <td>10.1</td>\n",
              "      <td>3</td>\n",
              "      <td>2.73</td>\n",
              "      <td>3</td>\n",
              "      <td>2</td>\n",
              "      <td>0.45</td>\n",
              "      <td>False.</td>\n",
              "    </tr>\n",
              "  </tbody>\n",
              "</table>\n",
              "</div>\n",
              "      <button class=\"colab-df-convert\" onclick=\"convertToInteractive('df-533730bc-4e31-44fc-ba3b-df6dd59d57c8')\"\n",
              "              title=\"Convert this dataframe to an interactive table.\"\n",
              "              style=\"display:none;\">\n",
              "        \n",
              "  <svg xmlns=\"http://www.w3.org/2000/svg\" height=\"24px\"viewBox=\"0 0 24 24\"\n",
              "       width=\"24px\">\n",
              "    <path d=\"M0 0h24v24H0V0z\" fill=\"none\"/>\n",
              "    <path d=\"M18.56 5.44l.94 2.06.94-2.06 2.06-.94-2.06-.94-.94-2.06-.94 2.06-2.06.94zm-11 1L8.5 8.5l.94-2.06 2.06-.94-2.06-.94L8.5 2.5l-.94 2.06-2.06.94zm10 10l.94 2.06.94-2.06 2.06-.94-2.06-.94-.94-2.06-.94 2.06-2.06.94z\"/><path d=\"M17.41 7.96l-1.37-1.37c-.4-.4-.92-.59-1.43-.59-.52 0-1.04.2-1.43.59L10.3 9.45l-7.72 7.72c-.78.78-.78 2.05 0 2.83L4 21.41c.39.39.9.59 1.41.59.51 0 1.02-.2 1.41-.59l7.78-7.78 2.81-2.81c.8-.78.8-2.07 0-2.86zM5.41 20L4 18.59l7.72-7.72 1.47 1.35L5.41 20z\"/>\n",
              "  </svg>\n",
              "      </button>\n",
              "      \n",
              "  <style>\n",
              "    .colab-df-container {\n",
              "      display:flex;\n",
              "      flex-wrap:wrap;\n",
              "      gap: 12px;\n",
              "    }\n",
              "\n",
              "    .colab-df-convert {\n",
              "      background-color: #E8F0FE;\n",
              "      border: none;\n",
              "      border-radius: 50%;\n",
              "      cursor: pointer;\n",
              "      display: none;\n",
              "      fill: #1967D2;\n",
              "      height: 32px;\n",
              "      padding: 0 0 0 0;\n",
              "      width: 32px;\n",
              "    }\n",
              "\n",
              "    .colab-df-convert:hover {\n",
              "      background-color: #E2EBFA;\n",
              "      box-shadow: 0px 1px 2px rgba(60, 64, 67, 0.3), 0px 1px 3px 1px rgba(60, 64, 67, 0.15);\n",
              "      fill: #174EA6;\n",
              "    }\n",
              "\n",
              "    [theme=dark] .colab-df-convert {\n",
              "      background-color: #3B4455;\n",
              "      fill: #D2E3FC;\n",
              "    }\n",
              "\n",
              "    [theme=dark] .colab-df-convert:hover {\n",
              "      background-color: #434B5C;\n",
              "      box-shadow: 0px 1px 3px 1px rgba(0, 0, 0, 0.15);\n",
              "      filter: drop-shadow(0px 1px 2px rgba(0, 0, 0, 0.3));\n",
              "      fill: #FFFFFF;\n",
              "    }\n",
              "  </style>\n",
              "\n",
              "      <script>\n",
              "        const buttonEl =\n",
              "          document.querySelector('#df-533730bc-4e31-44fc-ba3b-df6dd59d57c8 button.colab-df-convert');\n",
              "        buttonEl.style.display =\n",
              "          google.colab.kernel.accessAllowed ? 'block' : 'none';\n",
              "\n",
              "        async function convertToInteractive(key) {\n",
              "          const element = document.querySelector('#df-533730bc-4e31-44fc-ba3b-df6dd59d57c8');\n",
              "          const dataTable =\n",
              "            await google.colab.kernel.invokeFunction('convertToInteractive',\n",
              "                                                     [key], {});\n",
              "          if (!dataTable) return;\n",
              "\n",
              "          const docLinkHtml = 'Like what you see? Visit the ' +\n",
              "            '<a target=\"_blank\" href=https://colab.research.google.com/notebooks/data_table.ipynb>data table notebook</a>'\n",
              "            + ' to learn more about interactive tables.';\n",
              "          element.innerHTML = '';\n",
              "          dataTable['output_type'] = 'display_data';\n",
              "          await google.colab.output.renderOutput(dataTable, element);\n",
              "          const docLink = document.createElement('div');\n",
              "          docLink.innerHTML = docLinkHtml;\n",
              "          element.appendChild(docLink);\n",
              "        }\n",
              "      </script>\n",
              "    </div>\n",
              "  </div>\n",
              "  "
            ],
            "text/plain": [
              "   Unnamed: 0 state  account_length  ...  treatment mes_estim   churn\n",
              "0           0    KS             128  ...          1      0.65  False.\n",
              "1           1    OH             107  ...          0      0.55  False.\n",
              "2           2    NJ             137  ...          0      0.72  False.\n",
              "3           3    OH              84  ...          1      0.28  False.\n",
              "4           4    OK              75  ...          2      0.45  False.\n",
              "\n",
              "[5 rows x 23 columns]"
            ]
          },
          "metadata": {},
          "execution_count": 25
        }
      ]
    },
    {
      "cell_type": "markdown",
      "source": [
        "Давайте рассмотрим всех пользователей из контрольной группы (treatment = 1). Для таких пользователей мы хотим проверить гипотезу о том, что штат абонента не влияет на то, перестанет ли абонент пользоваться услугами оператора. \n",
        "\n",
        "Для этого мы воспользуемся критерием хи-квадрат.  Постройте таблицы сопряженности между каждой из всех 1275 возможных неупорядоченных пар штатов и значением признака churn.  Для каждой такой таблицы 2x2 применить критерий хи-квадрат можно с помощью функции \n",
        "scipy.stats.chi2_contingency(subtable, correction=False)"
      ],
      "metadata": {
        "id": "LnBKufkxJN09"
      }
    },
    {
      "cell_type": "code",
      "source": [
        "state_churn = pd.crosstab(index=data[data['treatment']==1]['state'], columns=data[data['treatment']==1]['churn'])"
      ],
      "metadata": {
        "id": "dZCZl36QJH-8"
      },
      "execution_count": 30,
      "outputs": []
    },
    {
      "cell_type": "code",
      "source": [
        "chi2_cross_table = pd.DataFrame(columns=['state_1', 'state_2', 'p-value'])"
      ],
      "metadata": {
        "id": "f_tBSgSGQ48T"
      },
      "execution_count": 34,
      "outputs": []
    },
    {
      "cell_type": "code",
      "source": [
        "i=0\n",
        "for state1, state2 in combinations(state_churn.index, 2):\n",
        "    chi2_ = state_churn.loc[[state1, state2],:]\n",
        "    chi2_cross_table.loc[i, 'state_1'] = state1\n",
        "    chi2_cross_table.loc[i, 'state_2'] = state2\n",
        "    chi2_cross_table.loc[i, 'p-value'] = stats.chi2_contingency(chi2_.values, correction=False)[1]\n",
        "    i+=1"
      ],
      "metadata": {
        "id": "wagUbJp1POh4"
      },
      "execution_count": 38,
      "outputs": []
    },
    {
      "cell_type": "code",
      "source": [
        "chi2_cross_table.head()"
      ],
      "metadata": {
        "colab": {
          "base_uri": "https://localhost:8080/",
          "height": 206
        },
        "id": "jDXrzEfwSNyN",
        "outputId": "95de02b9-5a4c-474b-c51a-8731beefee0b"
      },
      "execution_count": 40,
      "outputs": [
        {
          "output_type": "execute_result",
          "data": {
            "text/html": [
              "\n",
              "  <div id=\"df-c0c1e2a4-6a01-407d-8694-5b395ddd3ff9\">\n",
              "    <div class=\"colab-df-container\">\n",
              "      <div>\n",
              "<style scoped>\n",
              "    .dataframe tbody tr th:only-of-type {\n",
              "        vertical-align: middle;\n",
              "    }\n",
              "\n",
              "    .dataframe tbody tr th {\n",
              "        vertical-align: top;\n",
              "    }\n",
              "\n",
              "    .dataframe thead th {\n",
              "        text-align: right;\n",
              "    }\n",
              "</style>\n",
              "<table border=\"1\" class=\"dataframe\">\n",
              "  <thead>\n",
              "    <tr style=\"text-align: right;\">\n",
              "      <th></th>\n",
              "      <th>state_1</th>\n",
              "      <th>state_2</th>\n",
              "      <th>p-value</th>\n",
              "    </tr>\n",
              "  </thead>\n",
              "  <tbody>\n",
              "    <tr>\n",
              "      <th>0</th>\n",
              "      <td>AK</td>\n",
              "      <td>AL</td>\n",
              "      <td>0.213621</td>\n",
              "    </tr>\n",
              "    <tr>\n",
              "      <th>1</th>\n",
              "      <td>AK</td>\n",
              "      <td>AR</td>\n",
              "      <td>0.0357288</td>\n",
              "    </tr>\n",
              "    <tr>\n",
              "      <th>2</th>\n",
              "      <td>AK</td>\n",
              "      <td>AZ</td>\n",
              "      <td>0.517397</td>\n",
              "    </tr>\n",
              "    <tr>\n",
              "      <th>3</th>\n",
              "      <td>AK</td>\n",
              "      <td>CA</td>\n",
              "      <td>0.0277369</td>\n",
              "    </tr>\n",
              "    <tr>\n",
              "      <th>4</th>\n",
              "      <td>AK</td>\n",
              "      <td>CO</td>\n",
              "      <td>0.101066</td>\n",
              "    </tr>\n",
              "  </tbody>\n",
              "</table>\n",
              "</div>\n",
              "      <button class=\"colab-df-convert\" onclick=\"convertToInteractive('df-c0c1e2a4-6a01-407d-8694-5b395ddd3ff9')\"\n",
              "              title=\"Convert this dataframe to an interactive table.\"\n",
              "              style=\"display:none;\">\n",
              "        \n",
              "  <svg xmlns=\"http://www.w3.org/2000/svg\" height=\"24px\"viewBox=\"0 0 24 24\"\n",
              "       width=\"24px\">\n",
              "    <path d=\"M0 0h24v24H0V0z\" fill=\"none\"/>\n",
              "    <path d=\"M18.56 5.44l.94 2.06.94-2.06 2.06-.94-2.06-.94-.94-2.06-.94 2.06-2.06.94zm-11 1L8.5 8.5l.94-2.06 2.06-.94-2.06-.94L8.5 2.5l-.94 2.06-2.06.94zm10 10l.94 2.06.94-2.06 2.06-.94-2.06-.94-.94-2.06-.94 2.06-2.06.94z\"/><path d=\"M17.41 7.96l-1.37-1.37c-.4-.4-.92-.59-1.43-.59-.52 0-1.04.2-1.43.59L10.3 9.45l-7.72 7.72c-.78.78-.78 2.05 0 2.83L4 21.41c.39.39.9.59 1.41.59.51 0 1.02-.2 1.41-.59l7.78-7.78 2.81-2.81c.8-.78.8-2.07 0-2.86zM5.41 20L4 18.59l7.72-7.72 1.47 1.35L5.41 20z\"/>\n",
              "  </svg>\n",
              "      </button>\n",
              "      \n",
              "  <style>\n",
              "    .colab-df-container {\n",
              "      display:flex;\n",
              "      flex-wrap:wrap;\n",
              "      gap: 12px;\n",
              "    }\n",
              "\n",
              "    .colab-df-convert {\n",
              "      background-color: #E8F0FE;\n",
              "      border: none;\n",
              "      border-radius: 50%;\n",
              "      cursor: pointer;\n",
              "      display: none;\n",
              "      fill: #1967D2;\n",
              "      height: 32px;\n",
              "      padding: 0 0 0 0;\n",
              "      width: 32px;\n",
              "    }\n",
              "\n",
              "    .colab-df-convert:hover {\n",
              "      background-color: #E2EBFA;\n",
              "      box-shadow: 0px 1px 2px rgba(60, 64, 67, 0.3), 0px 1px 3px 1px rgba(60, 64, 67, 0.15);\n",
              "      fill: #174EA6;\n",
              "    }\n",
              "\n",
              "    [theme=dark] .colab-df-convert {\n",
              "      background-color: #3B4455;\n",
              "      fill: #D2E3FC;\n",
              "    }\n",
              "\n",
              "    [theme=dark] .colab-df-convert:hover {\n",
              "      background-color: #434B5C;\n",
              "      box-shadow: 0px 1px 3px 1px rgba(0, 0, 0, 0.15);\n",
              "      filter: drop-shadow(0px 1px 2px rgba(0, 0, 0, 0.3));\n",
              "      fill: #FFFFFF;\n",
              "    }\n",
              "  </style>\n",
              "\n",
              "      <script>\n",
              "        const buttonEl =\n",
              "          document.querySelector('#df-c0c1e2a4-6a01-407d-8694-5b395ddd3ff9 button.colab-df-convert');\n",
              "        buttonEl.style.display =\n",
              "          google.colab.kernel.accessAllowed ? 'block' : 'none';\n",
              "\n",
              "        async function convertToInteractive(key) {\n",
              "          const element = document.querySelector('#df-c0c1e2a4-6a01-407d-8694-5b395ddd3ff9');\n",
              "          const dataTable =\n",
              "            await google.colab.kernel.invokeFunction('convertToInteractive',\n",
              "                                                     [key], {});\n",
              "          if (!dataTable) return;\n",
              "\n",
              "          const docLinkHtml = 'Like what you see? Visit the ' +\n",
              "            '<a target=\"_blank\" href=https://colab.research.google.com/notebooks/data_table.ipynb>data table notebook</a>'\n",
              "            + ' to learn more about interactive tables.';\n",
              "          element.innerHTML = '';\n",
              "          dataTable['output_type'] = 'display_data';\n",
              "          await google.colab.output.renderOutput(dataTable, element);\n",
              "          const docLink = document.createElement('div');\n",
              "          docLink.innerHTML = docLinkHtml;\n",
              "          element.appendChild(docLink);\n",
              "        }\n",
              "      </script>\n",
              "    </div>\n",
              "  </div>\n",
              "  "
            ],
            "text/plain": [
              "  state_1 state_2    p-value\n",
              "0      AK      AL   0.213621\n",
              "1      AK      AR  0.0357288\n",
              "2      AK      AZ   0.517397\n",
              "3      AK      CA  0.0277369\n",
              "4      AK      CO   0.101066"
            ]
          },
          "metadata": {},
          "execution_count": 40
        }
      ]
    },
    {
      "cell_type": "markdown",
      "source": [
        "Заметьте, что, например, (AZ, HI)  и  (HI, AZ) — это одна и та же пара. Обязательно выставьте correction=False (о том, что это значит, вы узнаете из следующих вопросов).\n",
        "\n",
        "Сколько  достигаемых уровней значимости оказались меньше, чем α=0.05?"
      ],
      "metadata": {
        "id": "YWnG42EkUVkA"
      }
    },
    {
      "cell_type": "code",
      "source": [
        "chi2_cross_table[chi2_cross_table['p-value']<0.05]['p-value'].count()"
      ],
      "metadata": {
        "colab": {
          "base_uri": "https://localhost:8080/"
        },
        "id": "qASxxkHeTzk9",
        "outputId": "672d0b1a-b642-470e-a428-9c6924661cf6"
      },
      "execution_count": 43,
      "outputs": [
        {
          "output_type": "execute_result",
          "data": {
            "text/plain": [
              "34"
            ]
          },
          "metadata": {},
          "execution_count": 43
        }
      ]
    },
    {
      "cell_type": "markdown",
      "source": [
        "*Ответ: 34*"
      ],
      "metadata": {
        "id": "kqI9wA_HU03E"
      }
    },
    {
      "cell_type": "markdown",
      "source": [
        "*Интерпретация числа достигаемых уровней значимости, меньших α=0.05, некорректна, поскольку не сделана поправка на множественную проверку гипотез.*\n",
        "\n",
        "\n",
        "*Применение критерия xи-квадрат для этих данных не обосновано, потому что не выполняются условия, при которых этот критерий дает правильные результаты.*"
      ],
      "metadata": {
        "id": "6NYT9MV4ypsC"
      }
    },
    {
      "cell_type": "markdown",
      "source": [
        "В основе критерия xи-квадрат лежит предположение о том, что если верна нулевая гипотеза, то дискретное биномиальное распределение данных по клеткам в  таблице сопряженности  может быть аппроксимировано с помощью непрерывного распределения xи-квадрат.  Однако точность такой аппроксимации существенно зависит от суммарного количества наблюдений и их распределения в этой таблице (отсюда и ограничения при использовании критерия xи-квадрат).\n",
        "\n",
        "Одним из способов коррекции точности аппроксимации является поправка Йетса на непрерывность.  Эта поправка заключается в  вычитании константы 0.5  из каждого модуля разности наблюденного  O_i и ожидаемого  E_i значений.\n",
        "\n",
        "Такая поправка, как несложно догадаться по формуле, как правило, уменьшает  значение статистики  chi2, то есть увеличивает достигаемый уровень значимости.\n",
        "\n",
        "Эта поправка обычно используется для таблиц сопряженности размером 2x2  и для небольшого количества наблюдений. Такая поправка, однако, не является серебрянной пулей, и часто критикуется за то, что статистический критерий при ее использовании становится слишком консервативным, то есть часто не отвергает нулевую гипотезу там, где она неверна (совершает ошибку II рода). \n",
        "\n",
        "Полезно знать, что эта поправка часто включена по  умолчанию (например, в функции scipy.stats.chi2_contingency) и понимать ее влияние на оценку достигаемого уровня значимости. \n",
        "\n",
        "Проведите те же самые сравнения, что и в вопросе №1, только с включенной коррекцией "
      ],
      "metadata": {
        "id": "_RIvHlrGW1-4"
      }
    },
    {
      "cell_type": "code",
      "source": [
        "chi2_cross_table_corr = pd.DataFrame(columns=['state_1', 'state_2', 'p-value'])"
      ],
      "metadata": {
        "id": "MUkTNPChVUyW"
      },
      "execution_count": 55,
      "outputs": []
    },
    {
      "cell_type": "code",
      "source": [
        "i=0\n",
        "for state1, state2 in combinations(state_churn.index, 2):\n",
        "    chi2_ = state_churn.loc[[state1, state2],:]\n",
        "    chi2_cross_table_corr.loc[i, 'state_1'] = state1\n",
        "    chi2_cross_table_corr.loc[i, 'state_2'] = state2\n",
        "    chi2_cross_table_corr.loc[i, 'p-value'] = stats.chi2_contingency(chi2_.values, correction=True)[1]\n",
        "    i+=1"
      ],
      "metadata": {
        "id": "of2E4VS-VU1A"
      },
      "execution_count": 56,
      "outputs": []
    },
    {
      "cell_type": "code",
      "source": [
        "chi2_cross_table_corr[chi2_cross_table_corr['p-value']<0.05]['p-value'].count()"
      ],
      "metadata": {
        "colab": {
          "base_uri": "https://localhost:8080/"
        },
        "id": "Ovlh5ZQKVU4g",
        "outputId": "28dfd392-fd59-44b6-a3f7-a835a93b6481"
      },
      "execution_count": 58,
      "outputs": [
        {
          "output_type": "execute_result",
          "data": {
            "text/plain": [
              "0"
            ]
          },
          "metadata": {},
          "execution_count": 58
        }
      ]
    },
    {
      "cell_type": "markdown",
      "source": [
        "*Достигаемые уровни значимости на наших данных, полученные с помощью критерия xи-квадрат с поправкой Йетса, в среднем получаются больше, чем соответствующие значения без поправки.*\n",
        "\n",
        "*Количество достигаемых уровней значимости, меньших, чем 0.05, в точности равно нулю. То есть поправка увеличила достигаемые уровни значимости настолько, что больше ни одно из значений достигаемого уровня значимости не попадает в диапазон от 0 до 0.05.*"
      ],
      "metadata": {
        "id": "_PwjTp-Mx9-q"
      }
    },
    {
      "cell_type": "markdown",
      "source": [
        "Что если у нас мало данных,  мы не хотим использовать аппроксимацию дискретного распределения непрерывным и использовать сомнительную поправку,  предположения  критерия xи-квадрат не выполняются, а проверить гипотезу о том, что данные принадлежат одному распределению, нужно ?\n",
        "\n",
        "В таком случае прибегают к так называемому точному критерию Фишера. Этот  критерий не использует приближений  и в точности вычисляет значение достигаемого уровня значимости используя комбинаторный подход.\n",
        "\n",
        "Посчитайте для каждой пары штатов, как и в первом задании, достигаемый уровень значимости с помощью точного критерия Фишера и сравните получившиеся значения с двумя другими подходами, описанными выше.\n",
        "\n",
        "Точный критерий Фишера удобно вычислять с помощью функции scipy.stats.fisher_exact, которая принимает на вход таблицу сопряженности 2x2. "
      ],
      "metadata": {
        "id": "KDPQ5odEX_kq"
      }
    },
    {
      "cell_type": "code",
      "source": [
        "fisher_cross_table = pd.DataFrame(columns=['state_1', 'state_2', 'p-value'])"
      ],
      "metadata": {
        "id": "jq6qxvJjYMsa"
      },
      "execution_count": 59,
      "outputs": []
    },
    {
      "cell_type": "code",
      "source": [
        "i=0\n",
        "for state1, state2 in combinations(state_churn.index, 2):\n",
        "    fisher_ = state_churn.loc[[state1, state2],:]\n",
        "    fisher_cross_table.loc[i, 'state_1'] = state1\n",
        "    fisher_cross_table.loc[i, 'state_2'] = state2\n",
        "    fisher_cross_table.loc[i, 'p-value'] = stats.fisher_exact(fisher_.values)[1]\n",
        "    i+=1"
      ],
      "metadata": {
        "id": "zwns1FFvYMsb"
      },
      "execution_count": 60,
      "outputs": []
    },
    {
      "cell_type": "code",
      "source": [
        "fisher_cross_table[fisher_cross_table['p-value']<0.05]['p-value'].count()"
      ],
      "metadata": {
        "colab": {
          "base_uri": "https://localhost:8080/"
        },
        "id": "0_MGT6ibYfZy",
        "outputId": "08cce2d3-87c8-452a-8190-1b72c8b5e03e"
      },
      "execution_count": 62,
      "outputs": [
        {
          "output_type": "execute_result",
          "data": {
            "text/plain": [
              "10"
            ]
          },
          "metadata": {},
          "execution_count": 62
        }
      ]
    },
    {
      "cell_type": "markdown",
      "source": [
        "*Точный критерий Фишера на наших данных дает значения достигаемого уровня значимости в среднем меньшие, чем xи-квадрат с поправкой Йетса*\n",
        "\n",
        "\n",
        "*Точный критерий Фишера на наших данных дает значения достигаемого уровня значимости в среднем значительно большие, чем xи-квадрат без поправки*\n",
        "\n",
        "\n",
        "*Точный критерий Фишера всегда лучше, чем критерий xи-квадрат, потому что не использует аппроксимацию дискретного распределения непрерывным. Однако при увеличении размера выборки его преимущества по сравнению с критерем xи-квадрат уменьшаются, в пределе достигая нуля*"
      ],
      "metadata": {
        "id": "_ZuMdD_czBWE"
      }
    },
    {
      "cell_type": "markdown",
      "source": [
        "Давайте попробуем применить полученные знания о разных видах корреляции и ее применимости на практике. \n",
        "\n",
        "Рассмотрим пару признаков day_calls и  mes_estim. Посчитайте корреляцию Пирсона между этими признаками на всех данных, ее значимость. \n",
        "\n",
        "Отметьте все верные утверждения. "
      ],
      "metadata": {
        "id": "gdXa4H8BbI0h"
      }
    },
    {
      "cell_type": "code",
      "source": [
        "stats.pearsonr(data['day_calls'], data['mes_estim'])"
      ],
      "metadata": {
        "colab": {
          "base_uri": "https://localhost:8080/"
        },
        "id": "_t6FytJfbgAV",
        "outputId": "6b11b756-0950-45fd-d0bb-6b1d8ef1ac0f"
      },
      "execution_count": 66,
      "outputs": [
        {
          "output_type": "execute_result",
          "data": {
            "text/plain": [
              "(-0.05179435058757264, 0.0027798836869738384)"
            ]
          },
          "metadata": {},
          "execution_count": 66
        }
      ]
    },
    {
      "cell_type": "markdown",
      "source": [
        "*Корреляция Пирсона имеет отрицательный знак, и отличие корреляции от нуля на уровне доверия 0.05 значимо*"
      ],
      "metadata": {
        "id": "AmBJYOQszZX-"
      }
    },
    {
      "cell_type": "code",
      "source": [
        "stats.spearmanr(data['day_calls'], data['mes_estim'])"
      ],
      "metadata": {
        "colab": {
          "base_uri": "https://localhost:8080/"
        },
        "id": "BI6s_nSLdpJc",
        "outputId": "cab89044-395c-4ae8-edf9-19063f9ee675"
      },
      "execution_count": 70,
      "outputs": [
        {
          "output_type": "execute_result",
          "data": {
            "text/plain": [
              "SpearmanrResult(correlation=0.043349880533927444, pvalue=0.012317367189170541)"
            ]
          },
          "metadata": {},
          "execution_count": 70
        }
      ]
    },
    {
      "cell_type": "markdown",
      "source": [
        "*Корреляция Спирмена имеет положительный знак, и отличие корреляции от нуля на уровне доверия 0.05 значимо*"
      ],
      "metadata": {
        "id": "KJb8h3AlzO1f"
      }
    },
    {
      "cell_type": "markdown",
      "source": [
        "*Посчитанные корреляции и их значимости говорят лишь о том, что необходимо взглянуть на данные глазами и попытаться понять, что приводит к таким (противоречивым?) результатам.*"
      ],
      "metadata": {
        "id": "BsVvhQuKzoHN"
      }
    },
    {
      "cell_type": "markdown",
      "source": [
        "Посчитайте значение коэффицента корреляции Крамера между двумя признаками:  штатом (state) и оттоком пользователей (churn) для всех пользователей, которые находились в контрольной группе (treatment=1).  Что можно сказать о достигаемом уровне значимости при проверке гипотезы о равенство нулю этого коэффициента?"
      ],
      "metadata": {
        "id": "tbt8JFMHe0vZ"
      }
    },
    {
      "cell_type": "code",
      "source": [
        "def cramers_stat(confusion_matrix):\n",
        "    chi2 = stats.chi2_contingency(confusion_matrix)[0]\n",
        "    n = confusion_matrix.sum()\n",
        "    return np.sqrt(chi2 / (n*(min(confusion_matrix.shape)-1)))"
      ],
      "metadata": {
        "id": "zNraXcrleBCE"
      },
      "execution_count": 71,
      "outputs": []
    },
    {
      "cell_type": "code",
      "source": [
        "cramers_stat(state_churn.values)"
      ],
      "metadata": {
        "colab": {
          "base_uri": "https://localhost:8080/"
        },
        "id": "Kr4ktrZyfuQA",
        "outputId": "181ec75e-ee93-48d3-e169-f2dafb441af5"
      },
      "execution_count": 73,
      "outputs": [
        {
          "output_type": "execute_result",
          "data": {
            "text/plain": [
              "0.2003932150203332"
            ]
          },
          "metadata": {},
          "execution_count": 73
        }
      ]
    },
    {
      "cell_type": "code",
      "source": [
        "stats.chi2_contingency(state_churn.values)[1]"
      ],
      "metadata": {
        "colab": {
          "base_uri": "https://localhost:8080/"
        },
        "id": "VWeiZP_1fwLZ",
        "outputId": "e3a7890b-e67b-4412-8372-fc6aedabcb49"
      },
      "execution_count": 74,
      "outputs": [
        {
          "output_type": "execute_result",
          "data": {
            "text/plain": [
              "0.7097590042778473"
            ]
          },
          "metadata": {},
          "execution_count": 74
        }
      ]
    },
    {
      "cell_type": "markdown",
      "source": [
        "*Для вычисления коэффициента Крамера используется значение статистики xи-квадрат, на которую мы не можем положиться применительно к нашим данным*"
      ],
      "metadata": {
        "id": "0c-CJpnxzutY"
      }
    },
    {
      "cell_type": "markdown",
      "source": [
        "В этой части задания вам нужно будет самостоятельно решить, с помощью каких методов можно провести анализ эффективности удержания (churn) с помощью раличных методов (treatment = 0, treatment = 2) относительно контрольной группы пользователей (treatment = 1). \n",
        "\n",
        "Что можно сказать об этих двух методах (treatment = 0, treatment = 2)? Одинаковы ли они с точки зрения эффективности? Каким бы методом вы бы посоветовали воспользоваться компании?\n",
        "\n",
        "Не забудьте про поправку на множественную проверку!  И не пользуйтесь односторонними альтернативами, поскольку вы не знаете, к каким действительно последствиям приводят тестируемые методы  (treatment = 0, treatment = 2) !"
      ],
      "metadata": {
        "id": "FcMrDGQfgjnw"
      }
    },
    {
      "cell_type": "code",
      "source": [
        "treat_0_group = data[data[\"treatment\"] == 0]\n",
        "treat_0_group_1 = treat_0_group[treat_0_group[\"churn\"] == \"True.\"]\n",
        "treat_2_group = data[data[\"treatment\"] == 2]\n",
        "treat_2_group_1 = treat_2_group[treat_2_group[\"churn\"] == \"True.\"]\n",
        "control_group = data[data[\"treatment\"] == 1]\n",
        "control_group_1 = control_group[control_group[\"churn\"] == \"True.\"]"
      ],
      "metadata": {
        "id": "iX4dJp3FhGNX"
      },
      "execution_count": 168,
      "outputs": []
    },
    {
      "cell_type": "code",
      "source": [
        "treat_0_count = float(len(treat_0_group))\n",
        "treat_0_count_1 = float(len(treat_0_group_1))\n",
        "treat_2_count = float(len(treat_2_group))\n",
        "treat_2_count_1 = float(len(treat_2_group_1))\n",
        "control_group_count = float(len(control_group))\n",
        "control_group_count_1 = float(len(control_group_1))"
      ],
      "metadata": {
        "id": "8nC6EKFjq-OY"
      },
      "execution_count": 170,
      "outputs": []
    },
    {
      "cell_type": "code",
      "source": [
        "proportion_confint(treat_0_count_1, treat_0_count)"
      ],
      "metadata": {
        "colab": {
          "base_uri": "https://localhost:8080/"
        },
        "id": "23i1zdyInBZr",
        "outputId": "8504ce4d-75e1-4634-aa63-1dc04f1b26d6"
      },
      "execution_count": 173,
      "outputs": [
        {
          "output_type": "execute_result",
          "data": {
            "text/plain": [
              "(0.12509189855388805, 0.16617023736844203)"
            ]
          },
          "metadata": {},
          "execution_count": 173
        }
      ]
    },
    {
      "cell_type": "code",
      "source": [
        "proportion_confint(treat_2_count_1, treat_2_count)"
      ],
      "metadata": {
        "colab": {
          "base_uri": "https://localhost:8080/"
        },
        "id": "QDWLZjN1lv-u",
        "outputId": "585fb8a9-1343-4a74-f4ae-5c337ea5798a"
      },
      "execution_count": 174,
      "outputs": [
        {
          "output_type": "execute_result",
          "data": {
            "text/plain": [
              "(0.10558846307607082, 0.14463819150235163)"
            ]
          },
          "metadata": {},
          "execution_count": 174
        }
      ]
    },
    {
      "cell_type": "code",
      "source": [
        "proportion_confint(control_group_count_1, control_group_count)"
      ],
      "metadata": {
        "colab": {
          "base_uri": "https://localhost:8080/"
        },
        "id": "ikATshuonSA8",
        "outputId": "ae902422-2bf0-4b48-c474-21fc77777c04"
      },
      "execution_count": 175,
      "outputs": [
        {
          "output_type": "execute_result",
          "data": {
            "text/plain": [
              "(0.14216797720187604, 0.18599975297132357)"
            ]
          },
          "metadata": {},
          "execution_count": 175
        }
      ]
    },
    {
      "cell_type": "code",
      "source": [
        "def proportions_diff_z_stat_ind(sample1, sample2):\n",
        "    n1 = len(sample1)\n",
        "    n2 = len(sample2)\n",
        "    \n",
        "    p1 = float(sum(sample1)) / n1\n",
        "    p2 = float(sum(sample2)) / n2 \n",
        "    P = float(p1*n1 + p2*n2) / (n1 + n2)\n",
        "    \n",
        "    return (p1 - p2) / np.sqrt(P * (1 - P) * (1. / n1 + 1. / n2))\n",
        "\n",
        "def proportions_diff_z_test(sample1, sample2, alternative = \"two-sided\"):\n",
        "    if alternative not in (\"two-sided\", \"less\", \"greater\"):\n",
        "        raise ValueError(\"alternative not recognized\\n\"\n",
        "                         \"should be \\\"two-sided\\\", \\\"less\\\" or \\\"greater\\\"\")\n",
        "    z_stat = proportions_diff_z_stat_ind(sample1, sample2)\n",
        "    p_value = 0\n",
        "    if alternative == 'two-sided':\n",
        "        p_value = 2 * (1 - stats.norm.cdf(np.abs(z_stat)))\n",
        "    elif alternative == 'less':\n",
        "        p_value = stats.norm.cdf(z_stat)\n",
        "    elif alternative == 'greater':\n",
        "        p_value = 1 - stats.norm.cdf(z_stat)\n",
        "\n",
        "    return (z_stat,p_value)"
      ],
      "metadata": {
        "id": "kJVU-oObnrAE"
      },
      "execution_count": 144,
      "outputs": []
    },
    {
      "cell_type": "code",
      "source": [
        "treat_0_group_ = list(map(lambda x: 1. if x == \"True.\" else 0., treat_0_group[\"churn\"].values))\n",
        "treat_2_group_ = list(map(lambda x: 1. if x == \"True.\" else 0., treat_2_group[\"churn\"].values))\n",
        "control_group_ = list(map(lambda x: 1. if x == \"True.\" else 0., control_group[\"churn\"].values))"
      ],
      "metadata": {
        "id": "lWbcZ_4Lsw7-"
      },
      "execution_count": 188,
      "outputs": []
    },
    {
      "cell_type": "code",
      "source": [
        "test_0_control = proportions_diff_z_test(treat_0_group_, control_group_)\n",
        "test_0_control"
      ],
      "metadata": {
        "colab": {
          "base_uri": "https://localhost:8080/"
        },
        "id": "MFyx0hbbn4L1",
        "outputId": "51a567a9-b259-4dcc-9593-fbca04be78bb"
      },
      "execution_count": 197,
      "outputs": [
        {
          "output_type": "execute_result",
          "data": {
            "text/plain": [
              "(-1.2046688551240339, 0.2283311639045107)"
            ]
          },
          "metadata": {},
          "execution_count": 197
        }
      ]
    },
    {
      "cell_type": "code",
      "source": [
        "test_2_control = proportions_diff_z_test(treat_2_group_, control_group_)\n",
        "test_2_control"
      ],
      "metadata": {
        "colab": {
          "base_uri": "https://localhost:8080/"
        },
        "id": "IKNSv1AZsRjN",
        "outputId": "3f0e393a-40a2-48a3-932d-a51cd5a11657"
      },
      "execution_count": 198,
      "outputs": [
        {
          "output_type": "execute_result",
          "data": {
            "text/plain": [
              "(-2.599054820975787, 0.009348084294451109)"
            ]
          },
          "metadata": {},
          "execution_count": 198
        }
      ]
    },
    {
      "cell_type": "code",
      "source": [
        "test_0_2 = proportions_diff_z_test(treat_0_group_, treat_2_group_)\n",
        "test_0_2"
      ],
      "metadata": {
        "colab": {
          "base_uri": "https://localhost:8080/"
        },
        "id": "-bbIdxNNtrof",
        "outputId": "395f2ddf-5e06-40eb-d76e-6d7e915fdfdd"
      },
      "execution_count": 199,
      "outputs": [
        {
          "output_type": "execute_result",
          "data": {
            "text/plain": [
              "(1.4171992240305467, 0.1564246886050802)"
            ]
          },
          "metadata": {},
          "execution_count": 199
        }
      ]
    },
    {
      "cell_type": "code",
      "source": [
        "p_values = multipletests([test_0_control[1], test_2_control[1], test_0_2[1]],\n",
        "    alpha = 0.05,\n",
        "    method = \"fdr_bh\")[1]"
      ],
      "metadata": {
        "id": "qdOdBlmSsk4Q"
      },
      "execution_count": 195,
      "outputs": []
    },
    {
      "cell_type": "code",
      "source": [
        "p_values"
      ],
      "metadata": {
        "colab": {
          "base_uri": "https://localhost:8080/"
        },
        "id": "UkZpzf4EuD_a",
        "outputId": "99b89bba-e43e-41ab-f1fe-be6e84d21da6"
      },
      "execution_count": 196,
      "outputs": [
        {
          "output_type": "execute_result",
          "data": {
            "text/plain": [
              "array([0.22833116, 0.02804425, 0.22833116])"
            ]
          },
          "metadata": {},
          "execution_count": 196
        }
      ]
    },
    {
      "cell_type": "markdown",
      "source": [
        "*treatment = 2 статистически значимо отличается от контрольной группы treatment = 1*\n",
        "\n",
        "\n",
        "*Отличие между treatment = 0 и treatment = 2 относительно влияния на уровень churn статистически незначимо*"
      ],
      "metadata": {
        "id": "Hn2a43gkuQn_"
      }
    },
    {
      "cell_type": "code",
      "source": [
        ""
      ],
      "metadata": {
        "id": "wnFHBqAUuE4T"
      },
      "execution_count": null,
      "outputs": []
    }
  ]
}