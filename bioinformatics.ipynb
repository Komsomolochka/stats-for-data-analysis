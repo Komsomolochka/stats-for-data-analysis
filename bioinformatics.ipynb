{
  "nbformat": 4,
  "nbformat_minor": 0,
  "metadata": {
    "colab": {
      "name": "bioinformatics.ipynb",
      "provenance": [],
      "authorship_tag": "ABX9TyOeudVt78XrLzQNHnTUmvHk",
      "include_colab_link": true
    },
    "kernelspec": {
      "name": "python3",
      "display_name": "Python 3"
    },
    "language_info": {
      "name": "python"
    }
  },
  "cells": [
    {
      "cell_type": "markdown",
      "metadata": {
        "id": "view-in-github",
        "colab_type": "text"
      },
      "source": [
        "<a href=\"https://colab.research.google.com/github/Komsomolochka/stats-for-data-analysis/blob/main/bioinformatics.ipynb\" target=\"_parent\"><img src=\"https://colab.research.google.com/assets/colab-badge.svg\" alt=\"Open In Colab\"/></a>"
      ]
    },
    {
      "cell_type": "markdown",
      "source": [
        "## Дифференциально экспрессированные гены"
      ],
      "metadata": {
        "id": "k27g7WhEF3wC"
      }
    },
    {
      "cell_type": "code",
      "execution_count": 88,
      "metadata": {
        "colab": {
          "base_uri": "https://localhost:8080/"
        },
        "id": "0DCaI4zt7Wmc",
        "outputId": "9c471dc4-5e1d-4fd7-c049-38ed964ef8b6"
      },
      "outputs": [
        {
          "output_type": "stream",
          "name": "stderr",
          "text": [
            "/usr/local/lib/python3.7/dist-packages/statsmodels/tools/_testing.py:19: FutureWarning: pandas.util.testing is deprecated. Use the functions in the public API at pandas.testing instead.\n",
            "  import pandas.util.testing as tm\n"
          ]
        }
      ],
      "source": [
        "import pandas as pd\n",
        "import numpy as np\n",
        "from scipy import stats\n",
        "import statsmodels.stats.multitest as smm"
      ]
    },
    {
      "cell_type": "markdown",
      "source": [
        "### Описание используемых данных"
      ],
      "metadata": {
        "id": "Kuze6nNwGLZH"
      }
    },
    {
      "cell_type": "markdown",
      "source": [
        "Данные для этой задачи взяты из исследования, проведенного в Stanford School of Medicine. В исследовании была предпринята попытка выявить набор  генов, которые позволили  бы более точно диагностировать возникновение рака груди на самых ранних стадиях.\n",
        "\n",
        "В эксперименте принимали участие 24 человек, у которых не было рака груди (normal), 25 человек, у которых это заболевание было диагностировано на ранней стадии (early neoplasia), и 23 человека с сильно выраженными симптомами (cancer).\n",
        "\n",
        "Ученые провели секвенирование биологического материала испытуемых, чтобы понять, какие из этих генов наиболее активны в клетках больных людей. \n",
        "\n",
        "Секвенирование — это определение степени активности генов в анализируемом образце с помощью подсчёта количества соответствующей каждому гену РНК.\n",
        "\n",
        "В данных для этого задания вы найдете именно эту количественную меру активности каждого из 15748 генов у каждого из 72 человек, принимавших участие в эксперименте.\n",
        "\n",
        "Вам нужно будет определить те гены, активность которых у людей в разных стадиях заболевания отличается статистически значимо.\n",
        "\n",
        "Кроме того, вам нужно будет оценить не только статистическую, но и практическую значимость этих результатов, которая часто используется в подобных исследованиях.\n",
        "\n",
        "Диагноз человека содержится в столбце под названием \"Diagnosis\"."
      ],
      "metadata": {
        "id": "7vveWLt3GNWw"
      }
    },
    {
      "cell_type": "code",
      "source": [
        "data = pd.read_csv('/content/gene_high_throughput_sequencing.csv')"
      ],
      "metadata": {
        "id": "wuoKcjFt7cE6"
      },
      "execution_count": 3,
      "outputs": []
    },
    {
      "cell_type": "code",
      "source": [
        "data.head()"
      ],
      "metadata": {
        "colab": {
          "base_uri": "https://localhost:8080/",
          "height": 299
        },
        "id": "ByLtebCl74Hv",
        "outputId": "38b9e108-d860-4c48-95ab-6b2563c18239"
      },
      "execution_count": 44,
      "outputs": [
        {
          "output_type": "execute_result",
          "data": {
            "text/html": [
              "\n",
              "  <div id=\"df-1c5f4db8-e75f-4332-9f42-73f9e2763c41\">\n",
              "    <div class=\"colab-df-container\">\n",
              "      <div>\n",
              "<style scoped>\n",
              "    .dataframe tbody tr th:only-of-type {\n",
              "        vertical-align: middle;\n",
              "    }\n",
              "\n",
              "    .dataframe tbody tr th {\n",
              "        vertical-align: top;\n",
              "    }\n",
              "\n",
              "    .dataframe thead th {\n",
              "        text-align: right;\n",
              "    }\n",
              "</style>\n",
              "<table border=\"1\" class=\"dataframe\">\n",
              "  <thead>\n",
              "    <tr style=\"text-align: right;\">\n",
              "      <th></th>\n",
              "      <th>Diagnosis</th>\n",
              "      <th>LOC643837</th>\n",
              "      <th>LOC100130417</th>\n",
              "      <th>SAMD11</th>\n",
              "      <th>NOC2L</th>\n",
              "      <th>KLHL17</th>\n",
              "      <th>PLEKHN1</th>\n",
              "      <th>C1orf170</th>\n",
              "      <th>HES4</th>\n",
              "      <th>ISG15</th>\n",
              "      <th>AGRN</th>\n",
              "      <th>C1orf159</th>\n",
              "      <th>LOC254099</th>\n",
              "      <th>TTLL10</th>\n",
              "      <th>TNFRSF18</th>\n",
              "      <th>TNFRSF4</th>\n",
              "      <th>SDF4</th>\n",
              "      <th>B3GALT6</th>\n",
              "      <th>FAM132A</th>\n",
              "      <th>UBE2J2</th>\n",
              "      <th>SCNN1D</th>\n",
              "      <th>ACAP3</th>\n",
              "      <th>PUSL1</th>\n",
              "      <th>CPSF3L</th>\n",
              "      <th>GLTPD1</th>\n",
              "      <th>DVL1</th>\n",
              "      <th>MXRA8</th>\n",
              "      <th>AURKAIP1</th>\n",
              "      <th>CCNL2</th>\n",
              "      <th>LOC148413</th>\n",
              "      <th>MRPL20</th>\n",
              "      <th>LOC441869</th>\n",
              "      <th>VWA1</th>\n",
              "      <th>ATAD3C</th>\n",
              "      <th>ATAD3B</th>\n",
              "      <th>ATAD3A</th>\n",
              "      <th>C1orf70</th>\n",
              "      <th>SSU72</th>\n",
              "      <th>LOC643988</th>\n",
              "      <th>MIB2</th>\n",
              "      <th>...</th>\n",
              "      <th>RENBP</th>\n",
              "      <th>HCFC1</th>\n",
              "      <th>TMEM187</th>\n",
              "      <th>IRAK1</th>\n",
              "      <th>MECP2</th>\n",
              "      <th>TKTL1</th>\n",
              "      <th>FLNA</th>\n",
              "      <th>EMD</th>\n",
              "      <th>RPL10</th>\n",
              "      <th>SNORA70</th>\n",
              "      <th>DNASE1L1</th>\n",
              "      <th>TAZ</th>\n",
              "      <th>ATP6AP1</th>\n",
              "      <th>GDI1</th>\n",
              "      <th>FAM50A</th>\n",
              "      <th>PLXNA3</th>\n",
              "      <th>LAGE3</th>\n",
              "      <th>UBL4A</th>\n",
              "      <th>SLC10A3</th>\n",
              "      <th>FAM3A</th>\n",
              "      <th>G6PD</th>\n",
              "      <th>GAB3</th>\n",
              "      <th>DKC1</th>\n",
              "      <th>MPP1</th>\n",
              "      <th>F8</th>\n",
              "      <th>FUNDC2</th>\n",
              "      <th>MTCP1NB</th>\n",
              "      <th>MTCP1</th>\n",
              "      <th>VBP1</th>\n",
              "      <th>RAB39B</th>\n",
              "      <th>CLIC2</th>\n",
              "      <th>RPS4Y1</th>\n",
              "      <th>ZFY</th>\n",
              "      <th>PRKY</th>\n",
              "      <th>USP9Y</th>\n",
              "      <th>DDX3Y</th>\n",
              "      <th>CD24</th>\n",
              "      <th>CYorf15B</th>\n",
              "      <th>KDM5D</th>\n",
              "      <th>EIF1AY</th>\n",
              "    </tr>\n",
              "  </thead>\n",
              "  <tbody>\n",
              "    <tr>\n",
              "      <th>0</th>\n",
              "      <td>normal</td>\n",
              "      <td>1.257614</td>\n",
              "      <td>2.408148</td>\n",
              "      <td>13.368622</td>\n",
              "      <td>9.494779</td>\n",
              "      <td>20.880435</td>\n",
              "      <td>12.722017</td>\n",
              "      <td>9.494779</td>\n",
              "      <td>54.349694</td>\n",
              "      <td>26.329928</td>\n",
              "      <td>57.553312</td>\n",
              "      <td>42.455733</td>\n",
              "      <td>6.614939</td>\n",
              "      <td>7.786382</td>\n",
              "      <td>14.283751</td>\n",
              "      <td>18.752091</td>\n",
              "      <td>65.825821</td>\n",
              "      <td>17.471334</td>\n",
              "      <td>14.135344</td>\n",
              "      <td>42.949564</td>\n",
              "      <td>35.946652</td>\n",
              "      <td>50.945017</td>\n",
              "      <td>19.738267</td>\n",
              "      <td>52.172044</td>\n",
              "      <td>34.753563</td>\n",
              "      <td>27.810055</td>\n",
              "      <td>83.303689</td>\n",
              "      <td>59.428091</td>\n",
              "      <td>42.306459</td>\n",
              "      <td>13.209938</td>\n",
              "      <td>20.161089</td>\n",
              "      <td>1.257614</td>\n",
              "      <td>66.621905</td>\n",
              "      <td>3.772842</td>\n",
              "      <td>40.210889</td>\n",
              "      <td>30.278655</td>\n",
              "      <td>14.576032</td>\n",
              "      <td>73.168939</td>\n",
              "      <td>34.692832</td>\n",
              "      <td>36.470811</td>\n",
              "      <td>...</td>\n",
              "      <td>3.164926</td>\n",
              "      <td>20.369209</td>\n",
              "      <td>5.577156</td>\n",
              "      <td>22.438224</td>\n",
              "      <td>20.981186</td>\n",
              "      <td>1.257614</td>\n",
              "      <td>146.983123</td>\n",
              "      <td>33.074695</td>\n",
              "      <td>4.761250</td>\n",
              "      <td>5.185276</td>\n",
              "      <td>15.282298</td>\n",
              "      <td>24.761483</td>\n",
              "      <td>66.017756</td>\n",
              "      <td>51.888333</td>\n",
              "      <td>40.000566</td>\n",
              "      <td>19.950798</td>\n",
              "      <td>19.306187</td>\n",
              "      <td>26.007591</td>\n",
              "      <td>10.139210</td>\n",
              "      <td>40.105866</td>\n",
              "      <td>43.047651</td>\n",
              "      <td>4.761250</td>\n",
              "      <td>30.624906</td>\n",
              "      <td>9.714340</td>\n",
              "      <td>5.577156</td>\n",
              "      <td>4.761250</td>\n",
              "      <td>10.139210</td>\n",
              "      <td>2.408148</td>\n",
              "      <td>12.214621</td>\n",
              "      <td>3.164926</td>\n",
              "      <td>4.761250</td>\n",
              "      <td>1.257614</td>\n",
              "      <td>1.257614</td>\n",
              "      <td>1.257614</td>\n",
              "      <td>1.257614</td>\n",
              "      <td>1.257614</td>\n",
              "      <td>23.268694</td>\n",
              "      <td>1.257614</td>\n",
              "      <td>1.257614</td>\n",
              "      <td>1.257614</td>\n",
              "    </tr>\n",
              "    <tr>\n",
              "      <th>1</th>\n",
              "      <td>normal</td>\n",
              "      <td>4.567931</td>\n",
              "      <td>16.602734</td>\n",
              "      <td>42.477752</td>\n",
              "      <td>25.562376</td>\n",
              "      <td>23.221137</td>\n",
              "      <td>11.622386</td>\n",
              "      <td>14.330573</td>\n",
              "      <td>72.445474</td>\n",
              "      <td>39.140813</td>\n",
              "      <td>119.572567</td>\n",
              "      <td>47.367114</td>\n",
              "      <td>4.567931</td>\n",
              "      <td>8.049497</td>\n",
              "      <td>31.421187</td>\n",
              "      <td>19.744990</td>\n",
              "      <td>123.120249</td>\n",
              "      <td>20.615707</td>\n",
              "      <td>16.865244</td>\n",
              "      <td>73.826942</td>\n",
              "      <td>45.474497</td>\n",
              "      <td>63.043023</td>\n",
              "      <td>28.021783</td>\n",
              "      <td>62.483096</td>\n",
              "      <td>60.409871</td>\n",
              "      <td>41.747570</td>\n",
              "      <td>124.715481</td>\n",
              "      <td>128.770634</td>\n",
              "      <td>33.452597</td>\n",
              "      <td>17.876777</td>\n",
              "      <td>28.947097</td>\n",
              "      <td>1.815112</td>\n",
              "      <td>113.503762</td>\n",
              "      <td>1.815112</td>\n",
              "      <td>45.954959</td>\n",
              "      <td>36.946925</td>\n",
              "      <td>15.222429</td>\n",
              "      <td>127.777507</td>\n",
              "      <td>66.567847</td>\n",
              "      <td>42.166365</td>\n",
              "      <td>...</td>\n",
              "      <td>12.355210</td>\n",
              "      <td>22.255175</td>\n",
              "      <td>9.075559</td>\n",
              "      <td>38.347144</td>\n",
              "      <td>21.245338</td>\n",
              "      <td>1.815112</td>\n",
              "      <td>152.191825</td>\n",
              "      <td>49.097571</td>\n",
              "      <td>8.577883</td>\n",
              "      <td>1.815112</td>\n",
              "      <td>23.965891</td>\n",
              "      <td>30.426817</td>\n",
              "      <td>160.727095</td>\n",
              "      <td>82.216081</td>\n",
              "      <td>60.045184</td>\n",
              "      <td>40.681726</td>\n",
              "      <td>70.040738</td>\n",
              "      <td>44.200859</td>\n",
              "      <td>13.379397</td>\n",
              "      <td>60.045184</td>\n",
              "      <td>72.566645</td>\n",
              "      <td>1.815112</td>\n",
              "      <td>21.451109</td>\n",
              "      <td>6.199787</td>\n",
              "      <td>1.815112</td>\n",
              "      <td>6.199787</td>\n",
              "      <td>5.445335</td>\n",
              "      <td>3.475674</td>\n",
              "      <td>9.075559</td>\n",
              "      <td>1.815112</td>\n",
              "      <td>6.871902</td>\n",
              "      <td>1.815112</td>\n",
              "      <td>1.815112</td>\n",
              "      <td>1.815112</td>\n",
              "      <td>1.815112</td>\n",
              "      <td>1.815112</td>\n",
              "      <td>10.427023</td>\n",
              "      <td>1.815112</td>\n",
              "      <td>1.815112</td>\n",
              "      <td>1.815112</td>\n",
              "    </tr>\n",
              "    <tr>\n",
              "      <th>2</th>\n",
              "      <td>normal</td>\n",
              "      <td>2.077597</td>\n",
              "      <td>3.978294</td>\n",
              "      <td>12.863214</td>\n",
              "      <td>13.728915</td>\n",
              "      <td>14.543176</td>\n",
              "      <td>14.141907</td>\n",
              "      <td>6.232790</td>\n",
              "      <td>57.011005</td>\n",
              "      <td>48.144685</td>\n",
              "      <td>55.579752</td>\n",
              "      <td>41.741942</td>\n",
              "      <td>3.978294</td>\n",
              "      <td>6.232790</td>\n",
              "      <td>24.317644</td>\n",
              "      <td>28.662801</td>\n",
              "      <td>64.494789</td>\n",
              "      <td>14.543176</td>\n",
              "      <td>12.407734</td>\n",
              "      <td>37.531155</td>\n",
              "      <td>32.074035</td>\n",
              "      <td>63.596176</td>\n",
              "      <td>13.303109</td>\n",
              "      <td>42.016789</td>\n",
              "      <td>26.142516</td>\n",
              "      <td>22.853562</td>\n",
              "      <td>76.118706</td>\n",
              "      <td>56.095106</td>\n",
              "      <td>40.053273</td>\n",
              "      <td>13.303109</td>\n",
              "      <td>20.461953</td>\n",
              "      <td>2.077597</td>\n",
              "      <td>58.702060</td>\n",
              "      <td>2.077597</td>\n",
              "      <td>42.153541</td>\n",
              "      <td>30.416278</td>\n",
              "      <td>16.750119</td>\n",
              "      <td>70.137476</td>\n",
              "      <td>35.481715</td>\n",
              "      <td>43.761239</td>\n",
              "      <td>...</td>\n",
              "      <td>5.228503</td>\n",
              "      <td>20.178729</td>\n",
              "      <td>3.978294</td>\n",
              "      <td>20.741310</td>\n",
              "      <td>22.085154</td>\n",
              "      <td>3.978294</td>\n",
              "      <td>145.308037</td>\n",
              "      <td>27.008755</td>\n",
              "      <td>6.232790</td>\n",
              "      <td>7.096343</td>\n",
              "      <td>16.750119</td>\n",
              "      <td>24.553171</td>\n",
              "      <td>58.702060</td>\n",
              "      <td>46.192467</td>\n",
              "      <td>44.154018</td>\n",
              "      <td>20.178729</td>\n",
              "      <td>13.728915</td>\n",
              "      <td>23.839609</td>\n",
              "      <td>7.865653</td>\n",
              "      <td>37.684188</td>\n",
              "      <td>39.474334</td>\n",
              "      <td>5.228503</td>\n",
              "      <td>38.139602</td>\n",
              "      <td>9.213541</td>\n",
              "      <td>6.232790</td>\n",
              "      <td>2.077597</td>\n",
              "      <td>12.407734</td>\n",
              "      <td>7.096343</td>\n",
              "      <td>10.387983</td>\n",
              "      <td>6.232790</td>\n",
              "      <td>7.096343</td>\n",
              "      <td>2.077597</td>\n",
              "      <td>2.077597</td>\n",
              "      <td>2.077597</td>\n",
              "      <td>2.077597</td>\n",
              "      <td>2.077597</td>\n",
              "      <td>22.344226</td>\n",
              "      <td>2.077597</td>\n",
              "      <td>2.077597</td>\n",
              "      <td>2.077597</td>\n",
              "    </tr>\n",
              "    <tr>\n",
              "      <th>3</th>\n",
              "      <td>normal</td>\n",
              "      <td>2.066576</td>\n",
              "      <td>8.520713</td>\n",
              "      <td>14.466035</td>\n",
              "      <td>7.823932</td>\n",
              "      <td>8.520713</td>\n",
              "      <td>2.066576</td>\n",
              "      <td>10.870009</td>\n",
              "      <td>53.292034</td>\n",
              "      <td>27.076621</td>\n",
              "      <td>54.454714</td>\n",
              "      <td>35.933084</td>\n",
              "      <td>2.066576</td>\n",
              "      <td>7.823932</td>\n",
              "      <td>24.422935</td>\n",
              "      <td>15.963105</td>\n",
              "      <td>54.245171</td>\n",
              "      <td>10.870009</td>\n",
              "      <td>14.854454</td>\n",
              "      <td>23.227927</td>\n",
              "      <td>27.905160</td>\n",
              "      <td>49.869762</td>\n",
              "      <td>8.520713</td>\n",
              "      <td>31.903907</td>\n",
              "      <td>16.999606</td>\n",
              "      <td>20.631293</td>\n",
              "      <td>34.477366</td>\n",
              "      <td>39.983492</td>\n",
              "      <td>32.784180</td>\n",
              "      <td>10.870009</td>\n",
              "      <td>24.884876</td>\n",
              "      <td>2.066576</td>\n",
              "      <td>53.398778</td>\n",
              "      <td>9.164670</td>\n",
              "      <td>40.125656</td>\n",
              "      <td>21.968009</td>\n",
              "      <td>14.066895</td>\n",
              "      <td>39.983492</td>\n",
              "      <td>28.907458</td>\n",
              "      <td>27.700348</td>\n",
              "      <td>...</td>\n",
              "      <td>2.066576</td>\n",
              "      <td>13.656094</td>\n",
              "      <td>7.058702</td>\n",
              "      <td>16.661272</td>\n",
              "      <td>7.823932</td>\n",
              "      <td>2.066576</td>\n",
              "      <td>90.135274</td>\n",
              "      <td>17.976444</td>\n",
              "      <td>2.066576</td>\n",
              "      <td>9.164670</td>\n",
              "      <td>13.656094</td>\n",
              "      <td>15.602310</td>\n",
              "      <td>53.611629</td>\n",
              "      <td>24.654987</td>\n",
              "      <td>35.933084</td>\n",
              "      <td>3.957193</td>\n",
              "      <td>6.199729</td>\n",
              "      <td>11.871578</td>\n",
              "      <td>9.164670</td>\n",
              "      <td>32.434938</td>\n",
              "      <td>25.112660</td>\n",
              "      <td>2.066576</td>\n",
              "      <td>5.200770</td>\n",
              "      <td>14.466035</td>\n",
              "      <td>7.823932</td>\n",
              "      <td>7.823932</td>\n",
              "      <td>17.656837</td>\n",
              "      <td>2.066576</td>\n",
              "      <td>17.331337</td>\n",
              "      <td>5.200770</td>\n",
              "      <td>5.200770</td>\n",
              "      <td>2.066576</td>\n",
              "      <td>2.066576</td>\n",
              "      <td>2.066576</td>\n",
              "      <td>2.066576</td>\n",
              "      <td>2.066576</td>\n",
              "      <td>49.295538</td>\n",
              "      <td>2.066576</td>\n",
              "      <td>2.066576</td>\n",
              "      <td>2.066576</td>\n",
              "    </tr>\n",
              "    <tr>\n",
              "      <th>4</th>\n",
              "      <td>normal</td>\n",
              "      <td>2.613616</td>\n",
              "      <td>3.434965</td>\n",
              "      <td>12.682222</td>\n",
              "      <td>10.543189</td>\n",
              "      <td>26.688686</td>\n",
              "      <td>12.484822</td>\n",
              "      <td>1.364917</td>\n",
              "      <td>67.140393</td>\n",
              "      <td>35.896701</td>\n",
              "      <td>48.134682</td>\n",
              "      <td>46.507417</td>\n",
              "      <td>7.179340</td>\n",
              "      <td>8.151497</td>\n",
              "      <td>23.096282</td>\n",
              "      <td>29.007823</td>\n",
              "      <td>78.309425</td>\n",
              "      <td>16.586217</td>\n",
              "      <td>18.698195</td>\n",
              "      <td>42.135928</td>\n",
              "      <td>39.393867</td>\n",
              "      <td>65.111910</td>\n",
              "      <td>15.819691</td>\n",
              "      <td>60.974762</td>\n",
              "      <td>27.872385</td>\n",
              "      <td>38.046667</td>\n",
              "      <td>86.335695</td>\n",
              "      <td>59.781684</td>\n",
              "      <td>56.754932</td>\n",
              "      <td>10.304894</td>\n",
              "      <td>19.857856</td>\n",
              "      <td>2.613616</td>\n",
              "      <td>59.197111</td>\n",
              "      <td>1.364917</td>\n",
              "      <td>59.740119</td>\n",
              "      <td>35.479081</td>\n",
              "      <td>11.872944</td>\n",
              "      <td>66.433731</td>\n",
              "      <td>19.857856</td>\n",
              "      <td>45.097362</td>\n",
              "      <td>...</td>\n",
              "      <td>1.364917</td>\n",
              "      <td>8.151497</td>\n",
              "      <td>6.053011</td>\n",
              "      <td>32.634544</td>\n",
              "      <td>15.502472</td>\n",
              "      <td>4.662078</td>\n",
              "      <td>122.028428</td>\n",
              "      <td>38.111900</td>\n",
              "      <td>8.739730</td>\n",
              "      <td>1.364917</td>\n",
              "      <td>13.256800</td>\n",
              "      <td>27.513595</td>\n",
              "      <td>74.305471</td>\n",
              "      <td>58.095870</td>\n",
              "      <td>47.615835</td>\n",
              "      <td>23.941223</td>\n",
              "      <td>19.857856</td>\n",
              "      <td>19.982553</td>\n",
              "      <td>13.068081</td>\n",
              "      <td>41.482388</td>\n",
              "      <td>33.088086</td>\n",
              "      <td>5.627695</td>\n",
              "      <td>14.509262</td>\n",
              "      <td>11.227770</td>\n",
              "      <td>5.167491</td>\n",
              "      <td>6.450344</td>\n",
              "      <td>7.840849</td>\n",
              "      <td>1.364917</td>\n",
              "      <td>7.840849</td>\n",
              "      <td>4.662078</td>\n",
              "      <td>11.227770</td>\n",
              "      <td>1.364917</td>\n",
              "      <td>1.364917</td>\n",
              "      <td>1.364917</td>\n",
              "      <td>1.364917</td>\n",
              "      <td>1.364917</td>\n",
              "      <td>23.627911</td>\n",
              "      <td>1.364917</td>\n",
              "      <td>1.364917</td>\n",
              "      <td>1.364917</td>\n",
              "    </tr>\n",
              "  </tbody>\n",
              "</table>\n",
              "<p>5 rows × 15749 columns</p>\n",
              "</div>\n",
              "      <button class=\"colab-df-convert\" onclick=\"convertToInteractive('df-1c5f4db8-e75f-4332-9f42-73f9e2763c41')\"\n",
              "              title=\"Convert this dataframe to an interactive table.\"\n",
              "              style=\"display:none;\">\n",
              "        \n",
              "  <svg xmlns=\"http://www.w3.org/2000/svg\" height=\"24px\"viewBox=\"0 0 24 24\"\n",
              "       width=\"24px\">\n",
              "    <path d=\"M0 0h24v24H0V0z\" fill=\"none\"/>\n",
              "    <path d=\"M18.56 5.44l.94 2.06.94-2.06 2.06-.94-2.06-.94-.94-2.06-.94 2.06-2.06.94zm-11 1L8.5 8.5l.94-2.06 2.06-.94-2.06-.94L8.5 2.5l-.94 2.06-2.06.94zm10 10l.94 2.06.94-2.06 2.06-.94-2.06-.94-.94-2.06-.94 2.06-2.06.94z\"/><path d=\"M17.41 7.96l-1.37-1.37c-.4-.4-.92-.59-1.43-.59-.52 0-1.04.2-1.43.59L10.3 9.45l-7.72 7.72c-.78.78-.78 2.05 0 2.83L4 21.41c.39.39.9.59 1.41.59.51 0 1.02-.2 1.41-.59l7.78-7.78 2.81-2.81c.8-.78.8-2.07 0-2.86zM5.41 20L4 18.59l7.72-7.72 1.47 1.35L5.41 20z\"/>\n",
              "  </svg>\n",
              "      </button>\n",
              "      \n",
              "  <style>\n",
              "    .colab-df-container {\n",
              "      display:flex;\n",
              "      flex-wrap:wrap;\n",
              "      gap: 12px;\n",
              "    }\n",
              "\n",
              "    .colab-df-convert {\n",
              "      background-color: #E8F0FE;\n",
              "      border: none;\n",
              "      border-radius: 50%;\n",
              "      cursor: pointer;\n",
              "      display: none;\n",
              "      fill: #1967D2;\n",
              "      height: 32px;\n",
              "      padding: 0 0 0 0;\n",
              "      width: 32px;\n",
              "    }\n",
              "\n",
              "    .colab-df-convert:hover {\n",
              "      background-color: #E2EBFA;\n",
              "      box-shadow: 0px 1px 2px rgba(60, 64, 67, 0.3), 0px 1px 3px 1px rgba(60, 64, 67, 0.15);\n",
              "      fill: #174EA6;\n",
              "    }\n",
              "\n",
              "    [theme=dark] .colab-df-convert {\n",
              "      background-color: #3B4455;\n",
              "      fill: #D2E3FC;\n",
              "    }\n",
              "\n",
              "    [theme=dark] .colab-df-convert:hover {\n",
              "      background-color: #434B5C;\n",
              "      box-shadow: 0px 1px 3px 1px rgba(0, 0, 0, 0.15);\n",
              "      filter: drop-shadow(0px 1px 2px rgba(0, 0, 0, 0.3));\n",
              "      fill: #FFFFFF;\n",
              "    }\n",
              "  </style>\n",
              "\n",
              "      <script>\n",
              "        const buttonEl =\n",
              "          document.querySelector('#df-1c5f4db8-e75f-4332-9f42-73f9e2763c41 button.colab-df-convert');\n",
              "        buttonEl.style.display =\n",
              "          google.colab.kernel.accessAllowed ? 'block' : 'none';\n",
              "\n",
              "        async function convertToInteractive(key) {\n",
              "          const element = document.querySelector('#df-1c5f4db8-e75f-4332-9f42-73f9e2763c41');\n",
              "          const dataTable =\n",
              "            await google.colab.kernel.invokeFunction('convertToInteractive',\n",
              "                                                     [key], {});\n",
              "          if (!dataTable) return;\n",
              "\n",
              "          const docLinkHtml = 'Like what you see? Visit the ' +\n",
              "            '<a target=\"_blank\" href=https://colab.research.google.com/notebooks/data_table.ipynb>data table notebook</a>'\n",
              "            + ' to learn more about interactive tables.';\n",
              "          element.innerHTML = '';\n",
              "          dataTable['output_type'] = 'display_data';\n",
              "          await google.colab.output.renderOutput(dataTable, element);\n",
              "          const docLink = document.createElement('div');\n",
              "          docLink.innerHTML = docLinkHtml;\n",
              "          element.appendChild(docLink);\n",
              "        }\n",
              "      </script>\n",
              "    </div>\n",
              "  </div>\n",
              "  "
            ],
            "text/plain": [
              "  Diagnosis  LOC643837  LOC100130417  ...  CYorf15B     KDM5D    EIF1AY\n",
              "0    normal   1.257614      2.408148  ...  1.257614  1.257614  1.257614\n",
              "1    normal   4.567931     16.602734  ...  1.815112  1.815112  1.815112\n",
              "2    normal   2.077597      3.978294  ...  2.077597  2.077597  2.077597\n",
              "3    normal   2.066576      8.520713  ...  2.066576  2.066576  2.066576\n",
              "4    normal   2.613616      3.434965  ...  1.364917  1.364917  1.364917\n",
              "\n",
              "[5 rows x 15749 columns]"
            ]
          },
          "metadata": {},
          "execution_count": 44
        }
      ]
    },
    {
      "cell_type": "code",
      "source": [
        "data.shape"
      ],
      "metadata": {
        "colab": {
          "base_uri": "https://localhost:8080/"
        },
        "id": "t_yAbtGsHZRy",
        "outputId": "d11aa149-7559-4c65-8693-ab5618168872"
      },
      "execution_count": 46,
      "outputs": [
        {
          "output_type": "execute_result",
          "data": {
            "text/plain": [
              "(72, 15749)"
            ]
          },
          "metadata": {},
          "execution_count": 46
        }
      ]
    },
    {
      "cell_type": "markdown",
      "source": [
        "### Часть 1:  применение t-критерия Стьюдента"
      ],
      "metadata": {
        "id": "2bXufKTiGBPj"
      }
    },
    {
      "cell_type": "markdown",
      "source": [
        "\n",
        "\n",
        "\n",
        "В первой части вам нужно будет применить критерий Стьюдента для проверки гипотезы о равенстве средних в двух независимых выборках. Применить критерий для каждого гена нужно будет дважды:\n",
        "\n",
        "\n",
        "\n",
        "*   для групп normal (control) и early neoplasia (treatment)\n",
        "*   для групп early neoplasia (control) и cancer (treatment)\n",
        "\n",
        "\n",
        "\n",
        "\n",
        "\n",
        "В качестве ответа в этой части задания необходимо указать количество статистически значимых отличий, которые вы нашли с помощью t-критерия Стьюдента, то есть число генов, у которых p-value этого теста оказался меньше, чем уровень значимости. "
      ],
      "metadata": {
        "id": "XBJcWjeB7ql6"
      }
    },
    {
      "cell_type": "code",
      "source": [
        "data['Diagnosis'].value_counts()"
      ],
      "metadata": {
        "colab": {
          "base_uri": "https://localhost:8080/"
        },
        "id": "_wFwanHcH43B",
        "outputId": "29f9d1d1-230e-4848-c52d-1e188060a614"
      },
      "execution_count": 49,
      "outputs": [
        {
          "output_type": "execute_result",
          "data": {
            "text/plain": [
              "early neoplasia    25\n",
              "normal             24\n",
              "cancer             23\n",
              "Name: Diagnosis, dtype: int64"
            ]
          },
          "metadata": {},
          "execution_count": 49
        }
      ]
    },
    {
      "cell_type": "code",
      "source": [
        "# делим данные на 3 выборки\n",
        "normal = data[data['Diagnosis'] =='normal'].drop('Diagnosis',axis=1)\n",
        "neoplasia = data[data['Diagnosis'] =='early neoplasia'].drop('Diagnosis',axis=1)\n",
        "cancer = data[data['Diagnosis'] =='cancer'].drop('Diagnosis',axis=1)"
      ],
      "metadata": {
        "id": "fT5CI7NcHhPi"
      },
      "execution_count": 51,
      "outputs": []
    },
    {
      "cell_type": "code",
      "source": [
        "# задаем функцию расчета t-критерия Стьюдента для каждого гена\n",
        "def ttest_gens(control, treatment):\n",
        "    p_values = {}\n",
        "    for gen in control.columns:\n",
        "        p_values[gen] = stats.ttest_ind(control[gen], treatment[gen], equal_var=False)[1]\n",
        "    return p_values"
      ],
      "metadata": {
        "id": "mAsKgvb8IOSp"
      },
      "execution_count": 58,
      "outputs": []
    },
    {
      "cell_type": "code",
      "source": [
        "# проводим множественный тест для групп normal (control) и early neoplasia (treatment)\n",
        "p_values_normal_en = ttest_gens(normal,neoplasia)"
      ],
      "metadata": {
        "id": "TmYLCNNyIw8I"
      },
      "execution_count": 60,
      "outputs": []
    },
    {
      "cell_type": "code",
      "source": [
        "# создаем датасет\n",
        "p_values_normal_en = pd.DataFrame.from_dict(p_values_normal_en, columns=['p'], orient='index')"
      ],
      "metadata": {
        "id": "n89egHqfJrL5"
      },
      "execution_count": 68,
      "outputs": []
    },
    {
      "cell_type": "code",
      "source": [
        "# считаем количество статистически значимых отличий\n",
        "count1 = p_values_normal_en[p_values_normal_en['p']<0.05].shape[0]"
      ],
      "metadata": {
        "id": "RXlxskLHKJGC"
      },
      "execution_count": 83,
      "outputs": []
    },
    {
      "cell_type": "code",
      "source": [
        "# проводим множественный тест для групп early neoplasia (control) и cancer (treatment)\n",
        "p_values_en_cancer = ttest_gens(neoplasia,cancer)"
      ],
      "metadata": {
        "id": "ULIfa4e1LNkv"
      },
      "execution_count": 74,
      "outputs": []
    },
    {
      "cell_type": "code",
      "source": [
        "# создаем датасет\n",
        "p_values_en_cancer = pd.DataFrame.from_dict(p_values_en_cancer, columns=['p'], orient='index')"
      ],
      "metadata": {
        "id": "6LqJeYkgLw4j"
      },
      "execution_count": 77,
      "outputs": []
    },
    {
      "cell_type": "code",
      "source": [
        "# считаем количество статистически значимых отличий\n",
        "count2 = p_values_en_cancer[p_values_en_cancer['p']<0.05].shape[0]"
      ],
      "metadata": {
        "id": "YInuda7FLw4k"
      },
      "execution_count": 79,
      "outputs": []
    },
    {
      "cell_type": "code",
      "source": [
        "# функция для сохранения ответа\n",
        "\n",
        "def save_answers(answer, file_name):\n",
        "    with open(file_name, \"w\") as fout:\n",
        "        fout.write(str(answer))"
      ],
      "metadata": {
        "id": "zaaEsVotL1Dd"
      },
      "execution_count": 80,
      "outputs": []
    },
    {
      "cell_type": "code",
      "source": [
        "# сохраняем ответы в файлы\n",
        "save_answers(count1, \"answer11.txt\")\n",
        "save_answers(count2, \"answer12.txt\")"
      ],
      "metadata": {
        "id": "atreMFmVMeQm"
      },
      "execution_count": 87,
      "outputs": []
    },
    {
      "cell_type": "markdown",
      "source": [
        "### Часть 2: поправка методом Холма"
      ],
      "metadata": {
        "id": "w2v_9DVAOj3v"
      }
    },
    {
      "cell_type": "markdown",
      "source": [
        "В этой части задания нужно будет применить поправку Холма для получившихся двух наборов достигаемых уровней значимости из предыдущей части. Обратите внимание, что поскольку вы будете делать поправку для каждого из двух наборов p-value отдельно, то проблема, связанная с множественной проверкой останется.\n",
        "\n",
        "Для того, чтобы ее устранить, достаточно воспользоваться поправкой Бонферрони, то есть использовать уровень значимости 0.05 / 2 вместо 0.05 для дальнейшего уточнения значений p-value c помощью метода Холма.\n",
        "\n",
        "В качестве ответа к этому заданию требуется ввести количество значимых отличий в каждой группе после того, как произведена коррекция Холма-Бонферрони. Причем это число нужно ввести с учетом практической значимости: посчитайте для каждого значимого изменения fold change и выпишите в ответ число таких значимых изменений, абсолютное значение fold change которых больше, чем 1.5.\n",
        "\n",
        "Обратите внимание, что\n",
        "\n",
        "\n",
        "*   применять поправку на множественную проверку  нужно  ко всем  значениям достигаемых уровней значимости, а не только для тех, которые меньше значения уровня доверия. \n",
        "*   при использовании поправки на уровне значимости 0.025 меняются значения достигаемого уровня значимости, но не меняется значение уровня доверия (то есть для отбора значимых изменений скорректированные значения уровня значимости нужно сравнивать с порогом 0.025, а не 0.05)!\n",
        "\n",
        " \n",
        "\n"
      ],
      "metadata": {
        "id": "DIw9RjBNOp3f"
      }
    },
    {
      "cell_type": "code",
      "source": [
        "# поправка Бонферрони для множественной проверки групп normal (control) и early neoplasia (treatment)\n",
        "reject, p_corrected, a1, a2 = smm.multipletests(p_values_normal_en['p'], alpha = 0.025, method = 'holm') "
      ],
      "metadata": {
        "id": "A9thJE4lMkAU"
      },
      "execution_count": 153,
      "outputs": []
    },
    {
      "cell_type": "code",
      "source": [
        "p_values_normal_en['p_corrected'] = p_corrected\n",
        "p_values_normal_en['reject'] = reject"
      ],
      "metadata": {
        "id": "beFboYP0QMsj"
      },
      "execution_count": 154,
      "outputs": []
    },
    {
      "cell_type": "code",
      "source": [
        "# считаем среднее для каждого гена в группах\n",
        "neoplasia_mean = neoplasia.mean()\n",
        "normal_mean = normal.mean()\n",
        "cancer_mean = cancer.mean()"
      ],
      "metadata": {
        "id": "BUP0MA3vXX7a"
      },
      "execution_count": 147,
      "outputs": []
    },
    {
      "cell_type": "code",
      "source": [
        "# задаем функцию кратности изменения значения\n",
        "def fold_change(C, T):\n",
        "    if T > C:\n",
        "        r = T/C\n",
        "    else:\n",
        "        r = -C/T\n",
        "    return r"
      ],
      "metadata": {
        "id": "cNXlIy2pRVFN"
      },
      "execution_count": 134,
      "outputs": []
    },
    {
      "cell_type": "code",
      "source": [
        "# задаем функцию расчета fold change для выборок\n",
        "def fold_change_gens(control, treatment, data):\n",
        "  sign_diff=[]\n",
        "  for i, p in enumerate(data['reject']):\n",
        "      if p==True:\n",
        "          sign_diff.append(fold_change(control[i], treatment[i]))\n",
        "  return sign_diff"
      ],
      "metadata": {
        "id": "yzM5ZVKlYkUR"
      },
      "execution_count": 155,
      "outputs": []
    },
    {
      "cell_type": "code",
      "source": [
        "# практическая значимость изменений для normal (control) и early neoplasia (treatment)\n",
        "fold_change_gens(normal_mean, neoplasia_mean, p_values_normal_en)"
      ],
      "metadata": {
        "colab": {
          "base_uri": "https://localhost:8080/"
        },
        "id": "eCQ1jvUaY449",
        "outputId": "d7db6179-7c61-44b5-dfee-0f9fce473c7d"
      },
      "execution_count": 157,
      "outputs": [
        {
          "output_type": "execute_result",
          "data": {
            "text/plain": [
              "[1.509785482044398, 1.9748676656368698]"
            ]
          },
          "metadata": {},
          "execution_count": 157
        }
      ]
    },
    {
      "cell_type": "code",
      "source": [
        "# записываем ответ\n",
        "answer21 = len(fold_change_gens(normal_mean, neoplasia_mean, p_values_normal_en))"
      ],
      "metadata": {
        "id": "RT4uZTI3ekO0"
      },
      "execution_count": 166,
      "outputs": []
    },
    {
      "cell_type": "code",
      "source": [
        "# поправка Бонферрони для множественной проверки групп early neoplasia (control) и cancer (treatment)\n",
        "reject, p_corrected, a1, a2 = smm.multipletests(p_values_en_cancer['p'], alpha = 0.025, method = 'holm') "
      ],
      "metadata": {
        "id": "31Xdpe7qbC2q"
      },
      "execution_count": 158,
      "outputs": []
    },
    {
      "cell_type": "code",
      "source": [
        "p_values_en_cancer['p_corrected'] = p_corrected\n",
        "p_values_en_cancer['reject'] = reject"
      ],
      "metadata": {
        "id": "lI-u7uBIc2IP"
      },
      "execution_count": 159,
      "outputs": []
    },
    {
      "cell_type": "code",
      "source": [
        "# практическая значимость изменений для early neoplasia (control) и cancer (treatment)\n",
        "fold_change2 = fold_change_gens(neoplasia_mean, cancer_mean, p_values_en_cancer)"
      ],
      "metadata": {
        "id": "M1dYFtkBaput"
      },
      "execution_count": 167,
      "outputs": []
    },
    {
      "cell_type": "code",
      "source": [
        "# записываем ответ\n",
        "answer22 = sum([1 if abs(x)>1.5 else 0 for x in fold_change2])"
      ],
      "metadata": {
        "id": "FQBhXh-la6-m"
      },
      "execution_count": 168,
      "outputs": []
    },
    {
      "cell_type": "code",
      "source": [
        "answer22"
      ],
      "metadata": {
        "colab": {
          "base_uri": "https://localhost:8080/"
        },
        "id": "_bs9WNrtfBIN",
        "outputId": "3cfb7ea1-c743-4f97-cc65-6b7edfdcc578"
      },
      "execution_count": 169,
      "outputs": [
        {
          "output_type": "execute_result",
          "data": {
            "text/plain": [
              "77"
            ]
          },
          "metadata": {},
          "execution_count": 169
        }
      ]
    },
    {
      "cell_type": "code",
      "source": [
        "# сохраняем ответы в файлы\n",
        "save_answers(answer21, \"answer21.txt\")\n",
        "save_answers(answer22, \"answer22.txt\")"
      ],
      "metadata": {
        "id": "ApHCrH0ifCSJ"
      },
      "execution_count": 170,
      "outputs": []
    },
    {
      "cell_type": "markdown",
      "source": [
        "### Часть 3: поправка методом Бенджамини-Хохберга"
      ],
      "metadata": {
        "id": "6vbgINWWffAC"
      }
    },
    {
      "cell_type": "markdown",
      "source": [
        "Данная часть задания аналогична второй части за исключением того, что нужно будет использовать метод Бенджамини-Хохберга.\n",
        "\n",
        " Обратите внимание, что методы коррекции, которые контролируют FDR, допускает больше ошибок первого рода и имеют большую мощность, чем методы, контролирующие FWER. Большая мощность означает, что эти методы будут совершать меньше ошибок второго рода (то есть будут лучше улавливать отклонения от H_0\n",
        "​\n",
        " , когда они есть, и будут чаще отклонять H_0\n",
        "​\n",
        " , когда отличий нет).\n",
        "\n",
        "В качестве ответа к этому заданию требуется  ввести количество значимых отличий в каждой группе после того, как произведена коррекция Бенджамини-Хохберга, причем так же, как и во второй части, считать только такие отличия, у которых abs(fold change) > 1.5. "
      ],
      "metadata": {
        "id": "HiMQPeIWfkQg"
      }
    },
    {
      "cell_type": "code",
      "source": [
        "# поправка Бенджамини-Хохберга для множественной проверки групп normal (control) и early neoplasia (treatment)\n",
        "reject, p_corrected, a1, a2 = smm.multipletests(p_values_normal_en['p'], alpha = 0.025, method = 'fdr_bh') "
      ],
      "metadata": {
        "id": "GyljoXtjfOez"
      },
      "execution_count": 182,
      "outputs": []
    },
    {
      "cell_type": "code",
      "source": [
        "p_values_normal_en['p_corrected'] = p_corrected\n",
        "p_values_normal_en['reject'] = reject"
      ],
      "metadata": {
        "id": "rnP_KR1clssv"
      },
      "execution_count": 183,
      "outputs": []
    },
    {
      "cell_type": "code",
      "source": [
        "# практическая значимость изменений для normal (control) и early neoplasia (treatment)\n",
        "fold_changes_1 = fold_change_gens(normal_mean, neoplasia_mean, p_values_normal_en)"
      ],
      "metadata": {
        "id": "3PrmX2K0lxfu"
      },
      "execution_count": 184,
      "outputs": []
    },
    {
      "cell_type": "code",
      "source": [
        "# записываем ответ\n",
        "answer31 = sum([1 if abs(x)>1.5 else 0 for x in fold_changes_1])"
      ],
      "metadata": {
        "id": "OQInoufHl_3Y"
      },
      "execution_count": 185,
      "outputs": []
    },
    {
      "cell_type": "code",
      "source": [
        "# поправка Бенджамини-Хохберга для множественной проверки групп early neoplasia (control) и cancer (treatment)\n",
        "reject, p_corrected, a1, a2 = smm.multipletests(p_values_en_cancer['p'], alpha = 0.025, method = 'fdr_bh') "
      ],
      "metadata": {
        "id": "HJDkp9YkmMQi"
      },
      "execution_count": 177,
      "outputs": []
    },
    {
      "cell_type": "code",
      "source": [
        "p_values_en_cancer['p_corrected'] = p_corrected\n",
        "p_values_en_cancer['reject'] = reject"
      ],
      "metadata": {
        "id": "Gzq_ylC5mT7a"
      },
      "execution_count": 178,
      "outputs": []
    },
    {
      "cell_type": "code",
      "source": [
        "# практическая значимость изменений для early neoplasia (control) и cancer (treatment)\n",
        "fold_changes_2 = fold_change_gens(neoplasia_mean, cancer_mean, p_values_en_cancer)"
      ],
      "metadata": {
        "id": "gPyhCdxJmWPY"
      },
      "execution_count": 179,
      "outputs": []
    },
    {
      "cell_type": "code",
      "source": [
        "# записываем ответ\n",
        "answer32 = sum([1 if abs(x)>1.5 else 0 for x in fold_changes_2])"
      ],
      "metadata": {
        "id": "qJKM6XPgmp07"
      },
      "execution_count": 180,
      "outputs": []
    },
    {
      "cell_type": "code",
      "source": [
        "# сохраняем ответы в файлы\n",
        "save_answers(answer31, \"answer31.txt\")\n",
        "save_answers(answer32, \"answer32.txt\")"
      ],
      "metadata": {
        "id": "2olDdHDlmuB8"
      },
      "execution_count": 186,
      "outputs": []
    },
    {
      "cell_type": "code",
      "source": [
        ""
      ],
      "metadata": {
        "id": "yM5OTlUlmyqq"
      },
      "execution_count": null,
      "outputs": []
    }
  ]
}